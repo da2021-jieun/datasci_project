{
 "cells": [
  {
   "cell_type": "markdown",
   "metadata": {},
   "source": [
    "# EDA, Regression Modeling and More with Seoul Officetel Rentals Data (2011-2021)"
   ]
  },
  {
   "cell_type": "markdown",
   "metadata": {},
   "source": [
    "## Introduction\n",
    "\n",
    "- to be added"
   ]
  },
  {
   "cell_type": "markdown",
   "metadata": {},
   "source": [
    "## Preprocessing"
   ]
  },
  {
   "cell_type": "markdown",
   "metadata": {},
   "source": [
    "### Set Hangeul Font, 한글 폰트 설정 \n",
    "\n",
    "- For plotting purposes\n",
    "\n",
    "- matplotlib.`rc(\"font\",family=font_name)`"
   ]
  },
  {
   "cell_type": "code",
   "execution_count": 1,
   "metadata": {},
   "outputs": [],
   "source": [
    "import matplotlib as mpl\n",
    "import matplotlib.font_manager as fm \n",
    "\n",
    "# Nanum Gothic Coding\n",
    "# font_path= r\"C:\\tmp\\NanumGothicCoding-Bold.ttf\"\n",
    "\n",
    "# D2Coding\n",
    "font_path= r\"C:\\tmp\\D2CodingBold-Ver1.3.2-20180524.ttf\".replace(\"\\\\\",\"/\")\n",
    "\n",
    "font_name= fm.FontProperties(fname=font_path).get_name() # D2Coding\n",
    "\n",
    "mpl.rc(\"font\",family=font_name)"
   ]
  },
  {
   "cell_type": "code",
   "execution_count": 2,
   "metadata": {},
   "outputs": [],
   "source": [
    "import pandas as pd \n",
    "\n",
    "path= \"./data/\"\n",
    "#csv_2021= \"seoul_rental_2021.csv\"\n",
    "csv_2020= \"seoul_rental_2020.csv\"\n",
    "csv_2019= \"seoul_rental_2019.csv\"\n",
    "csv_2018= \"seoul_rental_2018.csv\"\n",
    "csv_2017= \"seoul_rental_2017.csv\"\n",
    "csv_2016= \"seoul_rental_2016.txt\"\n",
    "csv_2015= \"seoul_rental_2015.txt\"\n",
    "csv_2014= \"seoul_rental_2014.txt\"\n",
    "csv_2014_clean= \"seoul_rental_2014_clean.txt\"\n",
    "csv_2013= \"seoul_rental_2013.txt\"\n",
    "csv_2012= \"seoul_rental_2012.txt\"\n",
    "csv_2011= \"seoul_rental_2011.txt\"\n",
    "\n",
    "# df_2021= pd.read_csv(path+csv_2021,encoding=\"cp949\")\n",
    "# df_2021.shape\n",
    "df_2020= pd.read_csv(path+csv_2020,encoding=\"cp949\")\n",
    "df_2019= pd.read_csv(path+csv_2019,encoding=\"cp949\")\n",
    "df_2018= pd.read_csv(path+csv_2018,encoding=\"cp949\")\n",
    "df_2017= pd.read_csv(path+csv_2017,encoding=\"cp949\")\n",
    "df_2016= pd.read_csv(path+csv_2016,encoding=\"utf-8\")\n",
    "df_2015= pd.read_csv(path+csv_2015,encoding=\"utf-8\")\n",
    "df_2014= pd.read_csv(path+csv_2014,encoding=\"utf-8\")\n",
    "df_2013= pd.read_csv(path+csv_2013,encoding=\"utf-8\")\n",
    "df_2012= pd.read_csv(path+csv_2012,encoding=\"utf-8\")\n",
    "df_2011= pd.read_csv(path+csv_2011,encoding=\"utf-8\")"
   ]
  },
  {
   "cell_type": "markdown",
   "metadata": {},
   "source": [
    "### Merge 10-year records into one dataframe\n"
   ]
  },
  {
   "cell_type": "markdown",
   "metadata": {},
   "source": [
    "- Check the shape of all the dataframes"
   ]
  },
  {
   "cell_type": "code",
   "execution_count": 3,
   "metadata": {},
   "outputs": [
    {
     "name": "stdout",
     "output_type": "stream",
     "text": [
      "2020 : (49971, 14)\n",
      "2019 : (48289, 14)\n",
      "2018 : (40030, 14)\n",
      "2017 : (34674, 14)\n",
      "2016 : (27592, 14)\n",
      "2015 : (24205, 14)\n",
      "2014 : (20820, 16)\n",
      "2013 : (16209, 14)\n",
      "2012 : (12529, 14)\n",
      "2011 : (10466, 14)\n"
     ]
    }
   ],
   "source": [
    "df_list= [df_2020,df_2019,df_2018,df_2017,df_2016,df_2015,df_2014,df_2013, df_2012,\\\n",
    "          df_2011]\n",
    "for i,df in enumerate(df_list):\n",
    "    year=2020-i\n",
    "    print(year,\":\",df.shape)"
   ]
  },
  {
   "cell_type": "markdown",
   "metadata": {},
   "source": [
    "- The two unnamed columns are from the year 2014.\n",
    "- tabulation of 1909 rows incorrect; has to be manually adjusted"
   ]
  },
  {
   "cell_type": "code",
   "execution_count": 4,
   "metadata": {},
   "outputs": [
    {
     "data": {
      "text/plain": [
       "시군구                0\n",
       "번지                16\n",
       "본번                 0\n",
       "부번                 0\n",
       "단지명             1909\n",
       "전월세구분              0\n",
       "전용면적(㎡)         1909\n",
       "계약년월               0\n",
       "계약일                0\n",
       "보증금(만원)            0\n",
       "월세(만원)             0\n",
       "층                  0\n",
       "건축년도               1\n",
       "도로명                0\n",
       "Unnamed: 14    18911\n",
       "Unnamed: 15    18911\n",
       "dtype: int64"
      ]
     },
     "execution_count": 4,
     "metadata": {},
     "output_type": "execute_result"
    }
   ],
   "source": [
    "df_2014.isna().sum()"
   ]
  },
  {
   "cell_type": "code",
   "execution_count": 5,
   "metadata": {},
   "outputs": [
    {
     "data": {
      "text/plain": [
       "(20820, 14)"
      ]
     },
     "execution_count": 5,
     "metadata": {},
     "output_type": "execute_result"
    }
   ],
   "source": [
    "df_2014_clean= pd.read_csv(path+csv_2014_clean,encoding=\"utf-8\")\n",
    "df_2014_clean.shape"
   ]
  },
  {
   "cell_type": "code",
   "execution_count": 40,
   "metadata": {},
   "outputs": [
    {
     "name": "stdout",
     "output_type": "stream",
     "text": [
      "<class 'pandas.core.frame.DataFrame'>\n",
      "RangeIndex: 284785 entries, 0 to 284784\n",
      "Data columns (total 14 columns):\n",
      " #   Column   Non-Null Count   Dtype  \n",
      "---  ------   --------------   -----  \n",
      " 0   시군구      284785 non-null  object \n",
      " 1   번지       283949 non-null  object \n",
      " 2   본번       284785 non-null  int64  \n",
      " 3   부번       284785 non-null  int64  \n",
      " 4   단지명      284785 non-null  object \n",
      " 5   전월세구분    284785 non-null  object \n",
      " 6   전용면적(㎡)  284785 non-null  float64\n",
      " 7   계약년월     284785 non-null  int64  \n",
      " 8   계약일      284785 non-null  int64  \n",
      " 9   보증금(만원)  284785 non-null  object \n",
      " 10  월세(만원)   284785 non-null  int64  \n",
      " 11  층        284785 non-null  int64  \n",
      " 12  건축년도     276309 non-null  float64\n",
      " 13  도로명      284770 non-null  object \n",
      "dtypes: float64(2), int64(6), object(6)\n",
      "memory usage: 30.4+ MB\n"
     ]
    }
   ],
   "source": [
    "df_list= [df_2020,df_2019,df_2018,df_2017,df_2016,df_2015,df_2014_clean,df_2013,\\\n",
    "          df_2012,df_2011]\n",
    "df_backup= pd.concat(df_list,ignore_index=True)\n",
    "df= df_backup.copy()\n",
    "df.info()"
   ]
  },
  {
   "cell_type": "code",
   "execution_count": 13,
   "metadata": {},
   "outputs": [
    {
     "data": {
      "text/html": [
       "<div>\n",
       "<style scoped>\n",
       "    .dataframe tbody tr th:only-of-type {\n",
       "        vertical-align: middle;\n",
       "    }\n",
       "\n",
       "    .dataframe tbody tr th {\n",
       "        vertical-align: top;\n",
       "    }\n",
       "\n",
       "    .dataframe thead th {\n",
       "        text-align: right;\n",
       "    }\n",
       "</style>\n",
       "<table border=\"1\" class=\"dataframe\">\n",
       "  <thead>\n",
       "    <tr style=\"text-align: right;\">\n",
       "      <th></th>\n",
       "      <th>시군구</th>\n",
       "      <th>번지</th>\n",
       "      <th>본번</th>\n",
       "      <th>부번</th>\n",
       "      <th>단지명</th>\n",
       "      <th>전월세구분</th>\n",
       "      <th>전용면적(㎡)</th>\n",
       "      <th>계약년월</th>\n",
       "      <th>계약일</th>\n",
       "      <th>보증금(만원)</th>\n",
       "      <th>월세(만원)</th>\n",
       "      <th>층</th>\n",
       "      <th>건축년도</th>\n",
       "      <th>도로명</th>\n",
       "    </tr>\n",
       "  </thead>\n",
       "  <tbody>\n",
       "    <tr>\n",
       "      <th>0</th>\n",
       "      <td>서울특별시 강남구 개포동</td>\n",
       "      <td>1237-3</td>\n",
       "      <td>1237</td>\n",
       "      <td>3</td>\n",
       "      <td>(1237-3)</td>\n",
       "      <td>월세</td>\n",
       "      <td>29.51</td>\n",
       "      <td>202004</td>\n",
       "      <td>11</td>\n",
       "      <td>500</td>\n",
       "      <td>100</td>\n",
       "      <td>2</td>\n",
       "      <td>2020.0</td>\n",
       "      <td>논현로20길 12</td>\n",
       "    </tr>\n",
       "  </tbody>\n",
       "</table>\n",
       "</div>"
      ],
      "text/plain": [
       "             시군구      번지    본번  부번       단지명 전월세구분  전용면적(㎡)    계약년월  계약일  \\\n",
       "0  서울특별시 강남구 개포동  1237-3  1237   3  (1237-3)    월세    29.51  202004   11   \n",
       "\n",
       "  보증금(만원)  월세(만원)  층    건축년도        도로명  \n",
       "0     500     100  2  2020.0  논현로20길 12  "
      ]
     },
     "execution_count": 13,
     "metadata": {},
     "output_type": "execute_result"
    }
   ],
   "source": [
    "df.head(1)"
   ]
  },
  {
   "cell_type": "markdown",
   "metadata": {},
   "source": [
    "### Columns to be merged/dropped\n",
    "\n",
    "- 번지 (lot number)\n",
    "- 본번 (primary lot number)\n",
    "- 부번 (secondary lot number)\n",
    "- 단지명 (building/estate name)\n",
    "- 도로명 (street address)\n",
    "\n",
    "The street address is the only address that is legally valid in South Korea since the Road Name Address Act came fully into effect on January 1, 2014. The estate name has additional information and will be merged with the street name. The empty cells of the street address column will be filled the lot number and/or the estate name. The lot number is made up of a primary number hyphenated with a secondary number, e.g., 1237-3.\n",
    "\n",
    "🇰🇷 \n",
    "> 도로명주소법이 전면적으로 시행되면서 2014년 1월 1일부터는 토지대장을 제외한 모든 곳에 도로명주소만을 쓸 수 있다. 따라서 도로명 주소와 단지명을 합쳐 각 건물의 전체 주소를 표시하되 도로명 주소 또는 단지명 컬럼이 비어 있으면 번지를 사용한다."
   ]
  },
  {
   "cell_type": "markdown",
   "metadata": {},
   "source": [
    "### Rename data columns\n",
    "\n",
    "- 시군구 → district1\n",
    "- 번지 → lot_num\n",
    "- 본번 → lot_num_primary\n",
    "- 부번 → lot_num_secondary\n",
    "-\t단지명 → estate_name\n",
    "-\t전월세구분 → rent_type (lump-sum or monthly)\n",
    "-\t전용면적(㎡) → unit_size (m²)\n",
    "-\t계약년월 → sign_yrmon\n",
    "-\t계약일 → sign_day\n",
    "-\t보증금(만원) → deposit (in 10,000 won)\n",
    "-\t월세(만원) → rent_price (in 10,000 won)\n",
    "-\t층 → floor\n",
    "-\t건축년도 → yr_built\n",
    "-\t도로명 → str_addr"
   ]
  },
  {
   "cell_type": "code",
   "execution_count": 41,
   "metadata": {},
   "outputs": [
    {
     "data": {
      "text/html": [
       "<div>\n",
       "<style scoped>\n",
       "    .dataframe tbody tr th:only-of-type {\n",
       "        vertical-align: middle;\n",
       "    }\n",
       "\n",
       "    .dataframe tbody tr th {\n",
       "        vertical-align: top;\n",
       "    }\n",
       "\n",
       "    .dataframe thead th {\n",
       "        text-align: right;\n",
       "    }\n",
       "</style>\n",
       "<table border=\"1\" class=\"dataframe\">\n",
       "  <thead>\n",
       "    <tr style=\"text-align: right;\">\n",
       "      <th></th>\n",
       "      <th>district1</th>\n",
       "      <th>lot_num</th>\n",
       "      <th>lot_num_primary</th>\n",
       "      <th>lot_num_secondary</th>\n",
       "      <th>estate_name</th>\n",
       "      <th>rent_type</th>\n",
       "      <th>unit_size</th>\n",
       "      <th>sign_yymm</th>\n",
       "      <th>sign_dd</th>\n",
       "      <th>deposit</th>\n",
       "      <th>rent_price</th>\n",
       "      <th>floor</th>\n",
       "      <th>yr_built</th>\n",
       "      <th>str_addr</th>\n",
       "    </tr>\n",
       "  </thead>\n",
       "  <tbody>\n",
       "    <tr>\n",
       "      <th>0</th>\n",
       "      <td>서울특별시 강남구 개포동</td>\n",
       "      <td>1237-3</td>\n",
       "      <td>1237</td>\n",
       "      <td>3</td>\n",
       "      <td>(1237-3)</td>\n",
       "      <td>월세</td>\n",
       "      <td>29.51</td>\n",
       "      <td>202004</td>\n",
       "      <td>11</td>\n",
       "      <td>500</td>\n",
       "      <td>100</td>\n",
       "      <td>2</td>\n",
       "      <td>2020.0</td>\n",
       "      <td>논현로20길 12</td>\n",
       "    </tr>\n",
       "  </tbody>\n",
       "</table>\n",
       "</div>"
      ],
      "text/plain": [
       "       district1 lot_num  lot_num_primary  lot_num_secondary estate_name  \\\n",
       "0  서울특별시 강남구 개포동  1237-3             1237                  3    (1237-3)   \n",
       "\n",
       "  rent_type  unit_size  sign_yymm  sign_dd deposit  rent_price  floor  \\\n",
       "0        월세      29.51     202004       11     500         100      2   \n",
       "\n",
       "   yr_built   str_addr  \n",
       "0    2020.0  논현로20길 12  "
      ]
     },
     "execution_count": 41,
     "metadata": {},
     "output_type": "execute_result"
    }
   ],
   "source": [
    "cols= [\"district1\",\"lot_num\",\"lot_num_primary\",\"lot_num_secondary\",\"estate_name\",\\\n",
    "       \"rent_type\",\"unit_size\",\"sign_yymm\",\"sign_dd\",\"deposit\",\"rent_price\",\\\n",
    "       \"floor\",\"yr_built\",\"str_addr\"]\n",
    "\n",
    "df.columns= cols\n",
    "df.head(1)"
   ]
  },
  {
   "cell_type": "code",
   "execution_count": 9,
   "metadata": {},
   "outputs": [
    {
     "data": {
      "text/plain": [
       "district1               0\n",
       "lot_num               836\n",
       "lot_num_primary         0\n",
       "lot_num_secondary       0\n",
       "estate_name             0\n",
       "rent_type               0\n",
       "unit_size               0\n",
       "sign_yymm               0\n",
       "sign_dd                 0\n",
       "deposit                 0\n",
       "rent_price              0\n",
       "floor                   0\n",
       "yr_built             8476\n",
       "str_addr               15\n",
       "dtype: int64"
      ]
     },
     "execution_count": 9,
     "metadata": {},
     "output_type": "execute_result"
    }
   ],
   "source": [
    "df.isna().sum()"
   ]
  },
  {
   "cell_type": "code",
   "execution_count": 42,
   "metadata": {},
   "outputs": [
    {
     "data": {
      "text/plain": [
       "(array([238349, 238350, 238351, 238352, 238353, 238354, 238355, 238356,\n",
       "        238357, 238358, 238359, 238360, 238361, 238362, 238363],\n",
       "       dtype=int64),)"
      ]
     },
     "execution_count": 42,
     "metadata": {},
     "output_type": "execute_result"
    }
   ],
   "source": [
    "import numpy as np \n",
    "nan_index= np.where(df.str_addr.isna())\n",
    "nan_index"
   ]
  },
  {
   "cell_type": "code",
   "execution_count": 19,
   "metadata": {},
   "outputs": [
    {
     "data": {
      "text/plain": [
       "array([238349, 238350, 238351, 238352, 238353, 238354, 238355, 238356,\n",
       "       238357, 238358, 238359, 238360, 238361, 238362, 238363],\n",
       "      dtype=int64)"
      ]
     },
     "execution_count": 19,
     "metadata": {},
     "output_type": "execute_result"
    }
   ],
   "source": [
    "nan_index[0]#.flatten()"
   ]
  },
  {
   "cell_type": "markdown",
   "metadata": {},
   "source": [
    "### Merge `str_addr` and `estate_name`\n",
    "- into new column `street_addr`, and\n",
    "\n",
    "- drop the two columns"
   ]
  },
  {
   "cell_type": "code",
   "execution_count": 38,
   "metadata": {},
   "outputs": [],
   "source": [
    "del df[\"street_addr\"]"
   ]
  },
  {
   "cell_type": "code",
   "execution_count": 43,
   "metadata": {},
   "outputs": [],
   "source": [
    "import numpy as np\n",
    "df[\"estate_name\"]= df[\"estate_name\"].astype(str)\n",
    "df[\"str_addr\"]= df.str_addr.astype(str)\n",
    "str_addr_series= [row[\"str_addr\"].replace(\"nan\",\"\")+row[\"estate_name\"] \\\n",
    "                  if row[\"str_addr\"]==\"nan\" else row[\"str_addr\"]+\", \"+\\\n",
    "                  row[\"estate_name\"] for i,row in df.iterrows()]\n",
    "df.insert(0,\"street_addr\",str_addr_series)\n",
    "#df[\"str_addr\"].replace(np.NaN,\"\",regex=True) + \", \"+ df[\"estate_name\"]\n",
    "#df"
   ]
  },
  {
   "cell_type": "code",
   "execution_count": 24,
   "metadata": {},
   "outputs": [
    {
     "data": {
      "text/plain": [
       "district1               0\n",
       "lot_num               836\n",
       "lot_num_primary         0\n",
       "lot_num_secondary       0\n",
       "estate_name             0\n",
       "rent_type               0\n",
       "unit_size               0\n",
       "sign_yymm               0\n",
       "sign_dd                 0\n",
       "deposit                 0\n",
       "rent_price              0\n",
       "floor                   0\n",
       "yr_built             8476\n",
       "str_addr                0\n",
       "street_addr             0\n",
       "dtype: int64"
      ]
     },
     "execution_count": 24,
     "metadata": {},
     "output_type": "execute_result"
    }
   ],
   "source": [
    "df.isna().sum()"
   ]
  },
  {
   "cell_type": "code",
   "execution_count": 37,
   "metadata": {},
   "outputs": [],
   "source": [
    "# df.iloc[nan_index[0]]"
   ]
  },
  {
   "cell_type": "markdown",
   "metadata": {},
   "source": [
    "### Drop unused columns\n",
    "\n",
    "- lot_num\n",
    "- lot_num_primary\n",
    "- lot_num_secondary\n",
    "- estate_name\n",
    "- str_addr"
   ]
  },
  {
   "cell_type": "code",
   "execution_count": 44,
   "metadata": {},
   "outputs": [
    {
     "data": {
      "text/html": [
       "<div>\n",
       "<style scoped>\n",
       "    .dataframe tbody tr th:only-of-type {\n",
       "        vertical-align: middle;\n",
       "    }\n",
       "\n",
       "    .dataframe tbody tr th {\n",
       "        vertical-align: top;\n",
       "    }\n",
       "\n",
       "    .dataframe thead th {\n",
       "        text-align: right;\n",
       "    }\n",
       "</style>\n",
       "<table border=\"1\" class=\"dataframe\">\n",
       "  <thead>\n",
       "    <tr style=\"text-align: right;\">\n",
       "      <th></th>\n",
       "      <th>street_addr</th>\n",
       "      <th>district1</th>\n",
       "      <th>rent_type</th>\n",
       "      <th>unit_size</th>\n",
       "      <th>sign_yymm</th>\n",
       "      <th>sign_dd</th>\n",
       "      <th>deposit</th>\n",
       "      <th>rent_price</th>\n",
       "      <th>floor</th>\n",
       "      <th>yr_built</th>\n",
       "    </tr>\n",
       "  </thead>\n",
       "  <tbody>\n",
       "    <tr>\n",
       "      <th>0</th>\n",
       "      <td>논현로20길 12, (1237-3)</td>\n",
       "      <td>서울특별시 강남구 개포동</td>\n",
       "      <td>월세</td>\n",
       "      <td>29.51</td>\n",
       "      <td>202004</td>\n",
       "      <td>11</td>\n",
       "      <td>500</td>\n",
       "      <td>100</td>\n",
       "      <td>2</td>\n",
       "      <td>2020.0</td>\n",
       "    </tr>\n",
       "  </tbody>\n",
       "</table>\n",
       "</div>"
      ],
      "text/plain": [
       "           street_addr      district1 rent_type  unit_size  sign_yymm  \\\n",
       "0  논현로20길 12, (1237-3)  서울특별시 강남구 개포동        월세      29.51     202004   \n",
       "\n",
       "   sign_dd deposit  rent_price  floor  yr_built  \n",
       "0       11     500         100      2    2020.0  "
      ]
     },
     "execution_count": 44,
     "metadata": {},
     "output_type": "execute_result"
    }
   ],
   "source": [
    "df.drop([\"lot_num\",\"lot_num_primary\",\"lot_num_secondary\",\"estate_name\",\"str_addr\"],\\\n",
    "        axis=1,inplace=True)\n",
    "df.head(1)"
   ]
  },
  {
   "cell_type": "markdown",
   "metadata": {},
   "source": [
    "### New column `district`\n",
    "🇰🇷 \n",
    "- 전체 데이터가 서울 지역에 한정되어 있으므로 \"서울특별시\", 동 이름 제거"
   ]
  },
  {
   "cell_type": "code",
   "execution_count": 45,
   "metadata": {},
   "outputs": [
    {
     "data": {
      "text/html": [
       "<div>\n",
       "<style scoped>\n",
       "    .dataframe tbody tr th:only-of-type {\n",
       "        vertical-align: middle;\n",
       "    }\n",
       "\n",
       "    .dataframe tbody tr th {\n",
       "        vertical-align: top;\n",
       "    }\n",
       "\n",
       "    .dataframe thead th {\n",
       "        text-align: right;\n",
       "    }\n",
       "</style>\n",
       "<table border=\"1\" class=\"dataframe\">\n",
       "  <thead>\n",
       "    <tr style=\"text-align: right;\">\n",
       "      <th></th>\n",
       "      <th>district</th>\n",
       "      <th>street_addr</th>\n",
       "      <th>district1</th>\n",
       "      <th>rent_type</th>\n",
       "      <th>unit_size</th>\n",
       "      <th>sign_yymm</th>\n",
       "      <th>sign_dd</th>\n",
       "      <th>deposit</th>\n",
       "      <th>rent_price</th>\n",
       "      <th>floor</th>\n",
       "      <th>yr_built</th>\n",
       "    </tr>\n",
       "  </thead>\n",
       "  <tbody>\n",
       "    <tr>\n",
       "      <th>0</th>\n",
       "      <td>강남구</td>\n",
       "      <td>논현로20길 12, (1237-3)</td>\n",
       "      <td>서울특별시 강남구 개포동</td>\n",
       "      <td>월세</td>\n",
       "      <td>29.51</td>\n",
       "      <td>202004</td>\n",
       "      <td>11</td>\n",
       "      <td>500</td>\n",
       "      <td>100</td>\n",
       "      <td>2</td>\n",
       "      <td>2020.0</td>\n",
       "    </tr>\n",
       "    <tr>\n",
       "      <th>1</th>\n",
       "      <td>강남구</td>\n",
       "      <td>논현로20길 12, (1237-3)</td>\n",
       "      <td>서울특별시 강남구 개포동</td>\n",
       "      <td>월세</td>\n",
       "      <td>29.95</td>\n",
       "      <td>202005</td>\n",
       "      <td>30</td>\n",
       "      <td>3000</td>\n",
       "      <td>80</td>\n",
       "      <td>4</td>\n",
       "      <td>2020.0</td>\n",
       "    </tr>\n",
       "  </tbody>\n",
       "</table>\n",
       "</div>"
      ],
      "text/plain": [
       "  district          street_addr      district1 rent_type  unit_size  \\\n",
       "0      강남구  논현로20길 12, (1237-3)  서울특별시 강남구 개포동        월세      29.51   \n",
       "1      강남구  논현로20길 12, (1237-3)  서울특별시 강남구 개포동        월세      29.95   \n",
       "\n",
       "   sign_yymm  sign_dd deposit  rent_price  floor  yr_built  \n",
       "0     202004       11     500         100      2    2020.0  \n",
       "1     202005       30    3000          80      4    2020.0  "
      ]
     },
     "execution_count": 45,
     "metadata": {},
     "output_type": "execute_result"
    }
   ],
   "source": [
    "df.insert(0,\"district\",[val.split()[1] for i,val in df.district1.iteritems() ])\n",
    "df.head(2)"
   ]
  },
  {
   "cell_type": "code",
   "execution_count": 50,
   "metadata": {},
   "outputs": [
    {
     "data": {
      "text/html": [
       "<div>\n",
       "<style scoped>\n",
       "    .dataframe tbody tr th:only-of-type {\n",
       "        vertical-align: middle;\n",
       "    }\n",
       "\n",
       "    .dataframe tbody tr th {\n",
       "        vertical-align: top;\n",
       "    }\n",
       "\n",
       "    .dataframe thead th {\n",
       "        text-align: right;\n",
       "    }\n",
       "</style>\n",
       "<table border=\"1\" class=\"dataframe\">\n",
       "  <thead>\n",
       "    <tr style=\"text-align: right;\">\n",
       "      <th></th>\n",
       "      <th>district</th>\n",
       "      <th>street_addr</th>\n",
       "      <th>district_sub</th>\n",
       "      <th>district1</th>\n",
       "      <th>rent_type</th>\n",
       "      <th>unit_size</th>\n",
       "      <th>sign_yymm</th>\n",
       "      <th>sign_dd</th>\n",
       "      <th>deposit</th>\n",
       "      <th>rent_price</th>\n",
       "      <th>floor</th>\n",
       "      <th>yr_built</th>\n",
       "    </tr>\n",
       "  </thead>\n",
       "  <tbody>\n",
       "    <tr>\n",
       "      <th>0</th>\n",
       "      <td>강남구</td>\n",
       "      <td>논현로20길 12, (1237-3)</td>\n",
       "      <td>개포동</td>\n",
       "      <td>서울특별시 강남구 개포동</td>\n",
       "      <td>월세</td>\n",
       "      <td>29.51</td>\n",
       "      <td>202004</td>\n",
       "      <td>11</td>\n",
       "      <td>500</td>\n",
       "      <td>100</td>\n",
       "      <td>2</td>\n",
       "      <td>2020.0</td>\n",
       "    </tr>\n",
       "  </tbody>\n",
       "</table>\n",
       "</div>"
      ],
      "text/plain": [
       "  district          street_addr district_sub      district1 rent_type  \\\n",
       "0      강남구  논현로20길 12, (1237-3)          개포동  서울특별시 강남구 개포동        월세   \n",
       "\n",
       "   unit_size  sign_yymm  sign_dd deposit  rent_price  floor  yr_built  \n",
       "0      29.51     202004       11     500         100      2    2020.0  "
      ]
     },
     "execution_count": 50,
     "metadata": {},
     "output_type": "execute_result"
    }
   ],
   "source": [
    "df.insert(2,\"district_sub\",[f\"{val.split()[2]}\" for i,val \\\n",
    "                            in df.district1.iteritems()])\n",
    "df.head(1)"
   ]
  },
  {
   "cell_type": "markdown",
   "metadata": {},
   "source": [
    "### Drop columns\n",
    "\n",
    "- `district1`"
   ]
  },
  {
   "cell_type": "code",
   "execution_count": 51,
   "metadata": {},
   "outputs": [
    {
     "data": {
      "text/html": [
       "<div>\n",
       "<style scoped>\n",
       "    .dataframe tbody tr th:only-of-type {\n",
       "        vertical-align: middle;\n",
       "    }\n",
       "\n",
       "    .dataframe tbody tr th {\n",
       "        vertical-align: top;\n",
       "    }\n",
       "\n",
       "    .dataframe thead th {\n",
       "        text-align: right;\n",
       "    }\n",
       "</style>\n",
       "<table border=\"1\" class=\"dataframe\">\n",
       "  <thead>\n",
       "    <tr style=\"text-align: right;\">\n",
       "      <th></th>\n",
       "      <th>district</th>\n",
       "      <th>street_addr</th>\n",
       "      <th>district_sub</th>\n",
       "      <th>rent_type</th>\n",
       "      <th>unit_size</th>\n",
       "      <th>sign_yymm</th>\n",
       "      <th>sign_dd</th>\n",
       "      <th>deposit</th>\n",
       "      <th>rent_price</th>\n",
       "      <th>floor</th>\n",
       "      <th>yr_built</th>\n",
       "    </tr>\n",
       "  </thead>\n",
       "  <tbody>\n",
       "    <tr>\n",
       "      <th>0</th>\n",
       "      <td>강남구</td>\n",
       "      <td>논현로20길 12, (1237-3)</td>\n",
       "      <td>개포동</td>\n",
       "      <td>월세</td>\n",
       "      <td>29.51</td>\n",
       "      <td>202004</td>\n",
       "      <td>11</td>\n",
       "      <td>500</td>\n",
       "      <td>100</td>\n",
       "      <td>2</td>\n",
       "      <td>2020.0</td>\n",
       "    </tr>\n",
       "  </tbody>\n",
       "</table>\n",
       "</div>"
      ],
      "text/plain": [
       "  district          street_addr district_sub rent_type  unit_size  sign_yymm  \\\n",
       "0      강남구  논현로20길 12, (1237-3)          개포동        월세      29.51     202004   \n",
       "\n",
       "   sign_dd deposit  rent_price  floor  yr_built  \n",
       "0       11     500         100      2    2020.0  "
      ]
     },
     "execution_count": 51,
     "metadata": {},
     "output_type": "execute_result"
    }
   ],
   "source": [
    "# drop \"district1\" column\n",
    "df.drop(\"district1\",axis=1,inplace=True)\n",
    "df.head(1)"
   ]
  },
  {
   "source": [
    "### Missing data imputation: `yr_built`\n",
    "- Fill empty cells of yr_built with the median value\n",
    "\n",
    "🇰🇷\n",
    "> 건축년도가 비어 있는 경우 median value로 채움"
   ],
   "cell_type": "markdown",
   "metadata": {}
  },
  {
   "cell_type": "code",
   "execution_count": null,
   "metadata": {},
   "outputs": [],
   "source": [
    "#### find the median value for a given column\n",
    "def find_median(col,df):\n",
    "    return df[df[col].notna()][col].median()\n",
    "\n",
    "df.loc[df.yr_built.isna(),\"yr_built\"]= find_median(\"yr_built\", df) # median: 2013\n",
    "df[\"yr_built\"]= df.yr_built.astype(int)\n",
    "\n",
    "df.head(1)\n",
    "df.isna().sum()\n",
    "df.yr_built.nunique()\n",
    "df.yr_built.unique()"
   ]
  },
  {
   "source": [
    "### Create a new column: `sign_date`\n",
    "- Create `sign_date` from sign_yymm and sign_dd\n",
    "\n",
    "🇰🇷\n",
    "> 계약년월과 계약일을 합쳐 sign_date 생성 (예: 2020-04-11)"
   ],
   "cell_type": "markdown",
   "metadata": {}
  },
  {
   "cell_type": "code",
   "execution_count": null,
   "metadata": {},
   "outputs": [],
   "source": [
    "df.sign_dd.value_counts()\n",
    "\n",
    "#### sign_dd ratio \n",
    "(df.sign_dd.value_counts()/df.shape[0])\n",
    "\n",
    "sign_date= pd.to_datetime((df.sign_yymm.astype(str)+df.sign_dd.astype(str)),format=\"%Y%m%d\")\n",
    "df.insert(5,\"sign_date\",sign_date)\n",
    "df.head(1)"
   ]
  },
  {
   "source": [
    "### `rent_type` ratio\n",
    "- Ratio of monthly vs lump-sum"
   ],
   "cell_type": "markdown",
   "metadata": {}
  },
  {
   "cell_type": "code",
   "execution_count": null,
   "metadata": {},
   "outputs": [],
   "source": [
    "df.rent_type.value_counts()\n",
    "\n",
    "# yr_built distribution among lump-sum lease \n",
    "# 전세 계약 건물의 건축년도 분포\n",
    "df[df.rent_type==\"전세\"][\"yr_built\"].value_counts()"
   ]
  }
 ],
 "metadata": {
  "interpreter": {
   "hash": "de71712264a6f5c39d2516a5db446814c5e4482bce6a5f66407a55107bdf69b2"
  },
  "kernelspec": {
   "display_name": "venv",
   "language": "python",
   "name": "venv"
  },
  "language_info": {
   "codemirror_mode": {
    "name": "ipython",
    "version": 3
   },
   "file_extension": ".py",
   "mimetype": "text/x-python",
   "name": "python",
   "nbconvert_exporter": "python",
   "pygments_lexer": "ipython3",
   "version": "3.8.5"
  }
 },
 "nbformat": 4,
 "nbformat_minor": 4
}